{
 "cells": [
  {
   "cell_type": "code",
   "execution_count": 1,
   "metadata": {},
   "outputs": [
    {
     "name": "stderr",
     "output_type": "stream",
     "text": [
      "d:\\Files\\HM\\holo-mentor-ml\\hm\\lib\\site-packages\\tqdm\\auto.py:21: TqdmWarning: IProgress not found. Please update jupyter and ipywidgets. See https://ipywidgets.readthedocs.io/en/stable/user_install.html\n",
      "  from .autonotebook import tqdm as notebook_tqdm\n"
     ]
    }
   ],
   "source": [
    "from transformers import AutoTokenizer, AutoModel\n",
    "import torch\n",
    "\n",
    "tokenizer = AutoTokenizer.from_pretrained('sentence-transformers/stsb-xlm-r-multilingual')\n",
    "model = AutoModel.from_pretrained('sentence-transformers/stsb-xlm-r-multilingual')\n",
    "\n",
    "\n",
    "def compute_embeddings(texts):\n",
    "    inputs = tokenizer(texts, return_tensors='pt', truncation=True, padding=True)\n",
    "    with torch.no_grad():\n",
    "        outputs = model(**inputs)\n",
    "    embeddings = outputs.last_hidden_state[:, 0, :].squeeze().numpy()\n",
    "    return embeddings"
   ]
  },
  {
   "cell_type": "code",
   "execution_count": 2,
   "metadata": {},
   "outputs": [],
   "source": [
    "documents = [\n",
    "    \"ප්‍රත්‍යවර්තක ධාරාවක්‌ සඳහා සමීකරණය 1 ~ 1, ල $” ලෙස ලිවිය හැකිය. මෙහි ! යනු කාලය වන අතර 1\",\n",
    "    \"ශුන්‍ය ලක්ෂ්‍ය ශක්තිය යනු ක්වොන්ටම් යාන්ත්‍රික භෞතික පද්ධතියකට තිබිය හැකි අවම ශක්තියයි. “පහත සඳහන් අය අතරින් මෙම සංකල්පය ඉදිරිපත් කළේ කවුද?\",\n",
    "    \"Night Vision උපාංගවල බහුලව භාවිතා වන තරංග අතරින් පහත සඳහන් තරංග මොනවාද?\",\n",
    "    \"පහත සඳහන් දේවලින් දර්පණ සූත්‍රය කුමක්ද?[A] v + u =f [B] 1/v + 1/u = 1/f [C] 1/v + 1/u = f [D] ඉහත කිසිවක් නොවේ\",\n",
    "    \"වස්තුව අනන්තයේ තැබූ විට උත්තල දර්පණයකින් සෑදෙන රූපයේ ස්වභාවය කුමක්ද?\",\n",
    "    \"ගැල්වනික් සෛලයක ඉලෙක්ට්‍රෝලය හරහා ධාරාව ගමන් කරන දිශාව කුමක්ද?\",\n",
    "    \"සන්නායක සම්බන්ධයෙන් පහත සඳහන් දේවලින් නිවැරදි වන්නේ කුමක්ද?\",\n",
    "    \"මෝටර් රථ රියදුරන් පිටුපස මාර්ගය බැලීමට භාවිතා කරන්නේ කුමන ආකාරයේ දර්පණයක්ද?\",\n",
    "    \"සෙල්සියස් සහ ෆැරන්හයිට් පරිමාණයන් මත සංඛ්‍යාත්මක අගයන් සමාන වන්නේ කුමන උෂ්ණත්වයකදීද (සෙල්සියස් අංශකයෙන්),?\",\n",
    "\n",
    "    \"What is the rate of flow of electric charges called?\",\n",
    "    \" Which of the following is the SI Unit of Electric Current?\",\n",
    "    \"When one unit electric charge moves from one point to another point in an electric circuit, then the amount of work done in joules is known as\",\n",
    "    \"The hindrance presented by material of conductor to the smooth passing of electric current is known as\",\n",
    "    \"The resistance of a conductor depends on\",\n",
    "    \"Which of the following does not produce a sound wave?\",\n",
    "    \"Which of the following is the unit for frequency\",\n",
    "    \"he amplitude of a wave is the distance between two consecutive\",\n",
    "    \"Three rays of light are incident on the boundary between a glass block and air.\"\n",
    "]\n"
   ]
  },
  {
   "cell_type": "code",
   "execution_count": 3,
   "metadata": {},
   "outputs": [
    {
     "name": "stdout",
     "output_type": "stream",
     "text": [
      "Embeddings shape: (18, 768)\n"
     ]
    }
   ],
   "source": [
    "# Compute embeddings\n",
    "embeddings = compute_embeddings(documents)\n",
    "print(\"Embeddings shape:\", embeddings.shape)\n"
   ]
  },
  {
   "cell_type": "code",
   "execution_count": 15,
   "metadata": {},
   "outputs": [],
   "source": [
    "# Search\n",
    "query = \"ප්‍රත්‍යවර්තක ධාරාවක්‌\"\n",
    "query_embedding = compute_embeddings([query])\n"
   ]
  },
  {
   "cell_type": "code",
   "execution_count": 16,
   "metadata": {},
   "outputs": [
    {
     "name": "stdout",
     "output_type": "stream",
     "text": [
      " 1. සන්නායක සම්බන්ධයෙන් පහත සඳහන් දේවලින් නිවැරදි වන්නේ කුමක්ද? (0.94)\n",
      " 2. වස්තුව අනන්තයේ තැබූ විට උත්තල දර්පණයකින් සෑදෙන රූපයේ ස්වභාවය කුමක්ද? (0.85)\n",
      " 3. ප්‍රත්‍යවර්තක ධාරාවක්‌ සඳහා සමීකරණය 1 ~ 1, ල $” ලෙස ලිවිය හැකිය. මෙහි ! යනු කාලය වන අතර 1 (0.83)\n",
      " 4. ගැල්වනික් සෛලයක ඉලෙක්ට්‍රෝලය හරහා ධාරාව ගමන් කරන දිශාව කුමක්ද? (0.77)\n",
      " 5. ශුන්‍ය ලක්ෂ්‍ය ශක්තිය යනු ක්වොන්ටම් යාන්ත්‍රික භෞතික පද්ධතියකට තිබිය හැකි අවම ශක්තියයි. “පහත සඳහන් අය අතරින් මෙම සංකල්පය ඉදිරිපත් කළේ කවුද? (0.70)\n",
      " 6. පහත සඳහන් දේවලින් දර්පණ සූත්‍රය කුමක්ද?[A] v + u =f [B] 1/v + 1/u = 1/f [C] 1/v + 1/u = f [D] ඉහත කිසිවක් නොවේ (0.68)\n",
      " 7. When one unit electric charge moves from one point to another point in an electric circuit, then the amount of work done in joules is known as (0.67)\n",
      " 8. Which of the following is the unit for frequency (0.65)\n",
      " 9. he amplitude of a wave is the distance between two consecutive (0.64)\n",
      "10. සෙල්සියස් සහ ෆැරන්හයිට් පරිමාණයන් මත සංඛ්‍යාත්මක අගයන් සමාන වන්නේ කුමන උෂ්ණත්වයකදීද (සෙල්සියස් අංශකයෙන්),? (0.64)\n",
      "11. Night Vision උපාංගවල බහුලව භාවිතා වන තරංග අතරින් පහත සඳහන් තරංග මොනවාද? (0.59)\n",
      "12. Which of the following does not produce a sound wave? (0.59)\n",
      "13.  Which of the following is the SI Unit of Electric Current? (0.58)\n",
      "14. මෝටර් රථ රියදුරන් පිටුපස මාර්ගය බැලීමට භාවිතා කරන්නේ කුමන ආකාරයේ දර්පණයක්ද? (0.57)\n",
      "15. What is the rate of flow of electric charges called? (0.56)\n",
      "16. The hindrance presented by material of conductor to the smooth passing of electric current is known as (0.51)\n",
      "17. Three rays of light are incident on the boundary between a glass block and air. (0.49)\n",
      "18. The resistance of a conductor depends on (0.40)\n"
     ]
    }
   ],
   "source": [
    "\n",
    "cosine_similarities = torch.nn.functional.cosine_similarity(\n",
    "    torch.tensor(query_embedding),\n",
    "    torch.tensor(embeddings)\n",
    ")\n",
    "\n",
    "\n",
    "results = list(zip(documents, cosine_similarities.tolist()))\n",
    "\n",
    "results.sort(key=lambda x: x[1], reverse=True)\n",
    "\n",
    "for i, (doc, score) in enumerate(results):\n",
    "    print(f\"{i+1:2d}. {doc} ({score:.2f})\")"
   ]
  }
 ],
 "metadata": {
  "kernelspec": {
   "display_name": "hm",
   "language": "python",
   "name": "python3"
  },
  "language_info": {
   "codemirror_mode": {
    "name": "ipython",
    "version": 3
   },
   "file_extension": ".py",
   "mimetype": "text/x-python",
   "name": "python",
   "nbconvert_exporter": "python",
   "pygments_lexer": "ipython3",
   "version": "3.10.0"
  }
 },
 "nbformat": 4,
 "nbformat_minor": 2
}
