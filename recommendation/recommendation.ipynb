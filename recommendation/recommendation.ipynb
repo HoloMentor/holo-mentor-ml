{
 "cells": [
  {
   "cell_type": "code",
   "execution_count": 3,
   "metadata": {},
   "outputs": [
    {
     "name": "stdout",
     "output_type": "stream",
     "text": [
      "Number of documents in the index: 18\n"
     ]
    }
   ],
   "source": [
    "from transformers import AutoTokenizer, AutoModel\n",
    "import torch\n",
    "import faiss\n",
    "import numpy as np\n",
    "\n",
    "import os\n",
    "os.environ[\"KMP_DUPLICATE_LIB_OK\"] = \"TRUE\"\n",
    "\n",
    "# Load tokenizer and model\n",
    "tokenizer = AutoTokenizer.from_pretrained('sentence-transformers/stsb-xlm-r-multilingual')\n",
    "model = AutoModel.from_pretrained('sentence-transformers/stsb-xlm-r-multilingual')\n",
    "\n",
    "# Function to compute embeddings\n",
    "def compute_embeddings(texts):\n",
    "    inputs = tokenizer(texts, return_tensors='pt', truncation=True, padding=True)\n",
    "    with torch.no_grad():\n",
    "        outputs = model(**inputs)\n",
    "    embeddings = outputs.last_hidden_state[:, 0, :].squeeze().numpy()\n",
    "    return embeddings\n",
    "\n",
    "# Sample dataset\n",
    "documents = [\n",
    "    \"ප්‍රත්‍යවර්තක ධාරාවක්‌ සඳහා සමීකරණය 1 ~ 1, ල $” ලෙස ලිවිය හැකිය. මෙහි ! යනු කාලය වන අතර 1\",\n",
    "    \"ශුන්‍ය ලක්ෂ්‍ය ශක්තිය යනු ක්වොන්ටම් යාන්ත්‍රික භෞතික පද්ධතියකට තිබිය හැකි අවම ශක්තියයි. “පහත සඳහන් අය අතරින් මෙම සංකල්පය ඉදිරිපත් කළේ කවුද?\",\n",
    "    \"Night Vision උපාංගවල බහුලව භාවිතා වන තරංග අතරින් පහත සඳහන් තරංග මොනවාද?\",\n",
    "    \"පහත සඳහන් දේවලින් දර්පණ සූත්‍රය කුමක්ද?[A] v + u =f [B] 1/v + 1/u = 1/f [C] 1/v + 1/u = f [D] ඉහත කිසිවක් නොවේ\",\n",
    "    \"වස්තුව අනන්තයේ තැබූ විට උත්තල දර්පණයකින් සෑදෙන රූපයේ ස්වභාවය කුමක්ද?\",\n",
    "    \"ගැල්වනික් සෛලයක ඉලෙක්ට්‍රෝලය හරහා ධාරාව ගමන් කරන දිශාව කුමක්ද?\",\n",
    "    \"සන්නායක සම්බන්ධයෙන් පහත සඳහන් දේවලින් නිවැරදි වන්නේ කුමක්ද?\",\n",
    "    \"මෝටර් රථ රියදුරන් පිටුපස මාර්ගය බැලීමට භාවිතා කරන්නේ කුමන ආකාරයේ දර්පණයක්ද?\",\n",
    "    \"සෙල්සියස් සහ ෆැරන්හයිට් පරිමාණයන් මත සංඛ්‍යාත්මක අගයන් සමාන වන්නේ කුමන උෂ්ණත්වයකදීද (සෙල්සියස් අංශකයෙන්),?\",\n",
    "\n",
    "    \"What is the rate of flow of electric charges called?\",\n",
    "    \" Which of the following is the SI Unit of Electric Current?\",\n",
    "    \"When one unit electric charge moves from one point to another point in an electric circuit, then the amount of work done in joules is known as\",\n",
    "    \"The hindrance presented by material of conductor to the smooth passing of electric current is known as\",\n",
    "    \"The resistance of a conductor depends on\",\n",
    "    \"Which of the following does not produce a sound wave?\",\n",
    "    \"Which of the following is the unit for frequency\",\n",
    "    \"he amplitude of a wave is the distance between two consecutive\",\n",
    "    \"Three rays of light are incident on the boundary between a glass block and air.\"\n",
    "]\n",
    "\n",
    "# Compute embeddings for the dataset\n",
    "embeddings = compute_embeddings(documents)\n",
    "\n",
    "# Initialize FAISS index\n",
    "d = embeddings.shape[1]  # dimension of the embeddings\n",
    "index = faiss.IndexFlatL2(d)  # using L2 distance\n",
    "\n",
    "# Add embeddings to the index\n",
    "index.add(embeddings)\n",
    "\n",
    "\n",
    "print(\"Number of documents in the index:\", index.ntotal)"
   ]
  },
  {
   "cell_type": "code",
   "execution_count": 4,
   "metadata": {},
   "outputs": [
    {
     "name": "stdout",
     "output_type": "stream",
     "text": [
      "Document 9: What is the rate of flow of electric charges called? (Distance: 3.221632682848252e-11)\n",
      "Document 10:  Which of the following is the SI Unit of Electric Current? (Distance: 56.75519561767578)\n",
      "Document 11: When one unit electric charge moves from one point to another point in an electric circuit, then the amount of work done in joules is known as (Distance: 77.05288696289062)\n",
      "Document 5: ගැල්වනික් සෛලයක ඉලෙක්ට්‍රෝලය හරහා ධාරාව ගමන් කරන දිශාව කුමක්ද? (Distance: 90.00004577636719)\n"
     ]
    }
   ],
   "source": [
    "\n",
    "query = \"What is the rate of flow of electric charges called?\"\n",
    "\n",
    "query_embedding = compute_embeddings([query]).reshape(1, -1)\n",
    "\n",
    "k = 20\n",
    "distances, indices = index.search(query_embedding, k)\n",
    "\n",
    "for i, idx in enumerate(indices[0]):\n",
    "    if distances[0][i] < 100:\n",
    "        print(f\"Document {idx}: {documents[idx]} (Distance: {distances[0][i]})\")\n"
   ]
  }
 ],
 "metadata": {
  "kernelspec": {
   "display_name": "hm",
   "language": "python",
   "name": "python3"
  },
  "language_info": {
   "codemirror_mode": {
    "name": "ipython",
    "version": 3
   },
   "file_extension": ".py",
   "mimetype": "text/x-python",
   "name": "python",
   "nbconvert_exporter": "python",
   "pygments_lexer": "ipython3",
   "version": "3.10.0"
  }
 },
 "nbformat": 4,
 "nbformat_minor": 2
}
